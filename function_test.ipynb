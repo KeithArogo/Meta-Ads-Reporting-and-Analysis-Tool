{
 "cells": [
  {
   "cell_type": "markdown",
   "metadata": {},
   "source": [
    "### Pre-process the data\n"
   ]
  },
  {
   "cell_type": "code",
   "execution_count": 1,
   "metadata": {},
   "outputs": [
    {
     "name": "stdout",
     "output_type": "stream",
     "text": [
      "Downloading files from S3...\n",
      "[INFO] Downloaded campain_add_data_taskher.csv to data/raw/campain_add_data_taskher.csv\n",
      "Current working directory: /home/sagemaker-user/Ad-Data-Analysis-Lingerie\n",
      "Contents of data/raw: ['campain_add_data_lingerie.csv', 'campain_add_data_taskher.csv']\n"
     ]
    },
    {
     "name": "stderr",
     "output_type": "stream",
     "text": [
      "/home/sagemaker-user/Ad-Data-Analysis-Lingerie/src/preprocessor.py:58: FutureWarning: DataFrame.applymap has been deprecated. Use DataFrame.map instead.\n",
      "  df[string_cols] = df[string_cols].applymap(clean_string)\n"
     ]
    }
   ],
   "source": [
    "from src.preprocessor import preprocess_campaign_data\n",
    "\n",
    "# Define parameters\n",
    "bucket_name = \"keithsbucketaws\"\n",
    "base_key = \"Add_data/\"\n",
    "files = [\"campain_add_data_taskher.csv\"]\n",
    "\n",
    "# Call the preprocessing function\n",
    "encoded_df = preprocess_campaign_data(bucket_name, base_key, files)"
   ]
  },
  {
   "cell_type": "markdown",
   "metadata": {},
   "source": [
    "### Analyse the data"
   ]
  },
  {
   "cell_type": "code",
   "execution_count": 2,
   "metadata": {},
   "outputs": [
    {
     "name": "stdout",
     "output_type": "stream",
     "text": [
      "Cost per quote by asset type:\n",
      "ad_assettype\n",
      "vid     0.435946\n",
      "img    11.185380\n",
      "dtype: float64\n",
      "\n",
      "Cost per quote by service:\n",
      "ad_service\n",
      "gen           0.432923\n",
      "crowd         1.427706\n",
      "ugc           1.735695\n",
      "elec          8.502187\n",
      "hack-plum    11.065833\n",
      "isl-plum     12.699556\n",
      "stw-plum     12.715385\n",
      "plum         13.128000\n",
      "hack-elec    13.670656\n",
      "isl-gas      18.550000\n",
      "hack-gas     23.770000\n",
      "isl-boil     27.840000\n",
      "hack-boil    64.520000\n",
      "dtype: float64\n",
      "\n",
      "Quotes by age group:\n",
      "age\n",
      "25-34      9811.0\n",
      "18-24      8286.0\n",
      "35-44      2391.0\n",
      "45-54       603.0\n",
      "55-64       269.0\n",
      "65+         136.0\n",
      "unknown      19.0\n",
      "Name: results, dtype: float64\n",
      "\n",
      "Quotes by gender:\n",
      "gender\n",
      "female     13375.0\n",
      "male        6323.0\n",
      "unknown     1817.0\n",
      "Name: results, dtype: float64\n",
      "\n",
      "Cost per quote by gender:\n",
      "gender\n",
      "female     1.075779\n",
      "male       0.339344\n",
      "unknown    0.416483\n",
      "dtype: float64\n",
      "\n",
      "Quotes by age group (formatted):\n",
      "age\n",
      "unknown      £19.00\n",
      "65+         £136.00\n",
      "55-64       £269.00\n",
      "45-54       £603.00\n",
      "35-44      £2391.00\n",
      "18-24      £8286.00\n",
      "25-34      £9811.00\n",
      "Name: results, dtype: object\n",
      "\n",
      "Quotes by gender (formatted):\n",
      "gender\n",
      "unknown     £1817.00\n",
      "male        £6323.00\n",
      "female     £13375.00\n",
      "Name: results, dtype: object\n",
      "\n",
      "Cost per quote by gender (formatted):\n",
      "gender\n",
      "male       £0.34\n",
      "unknown    £0.42\n",
      "female     £1.08\n",
      "dtype: object\n",
      "Analysis report saved to 'reports/ad_analysis_report.txt'\n"
     ]
    }
   ],
   "source": [
    "from src.analyser import analyze_campaign_data\n",
    "\n",
    "analyze_campaign_data(encoded_df)"
   ]
  }
 ],
 "metadata": {
  "language_info": {
   "name": "python"
  }
 },
 "nbformat": 4,
 "nbformat_minor": 2
}
